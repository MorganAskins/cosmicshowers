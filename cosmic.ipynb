{
 "cells": [
  {
   "cell_type": "code",
   "execution_count": null,
   "id": "481cae19-51c1-42d7-b3dc-727f072d3745",
   "metadata": {},
   "outputs": [],
   "source": [
    "import pandas as pd\n",
    "import numpy as np\n",
    "import matplotlib.pyplot as plt\n",
    "\n",
    "plt.style.use(\"snoplus\")"
   ]
  },
  {
   "cell_type": "code",
   "execution_count": null,
   "id": "68379525-cf81-4958-b1f9-e17df19ce9cf",
   "metadata": {},
   "outputs": [],
   "source": [
    "data = pd.read_csv(\"cosmic.csv\", names=[\"id\",\"sec\",\"ns\",\"name\",\"pid\",\"process\",\"energy\",\"x\",\"y\",\"z\",\"tank\",\"wbls\",\"death\"], delimiter=\" \")\n",
    "tank = data.query('wbls != 1')\n",
    "data = data.query('wbls == 1')\n",
    "norm = (data.x**2 + data.y**2 + data.z**2)**0.5\n",
    "data['direction'] = data.z/norm\n",
    "seconds = max(data.sec) - min(data.sec)\n",
    "frequency = len(np.unique(data.id))/seconds\n",
    "tankrate = len(np.unique(tank.id))/seconds\n",
    "totalrate = len(np.unique(np.concatenate([data.id, tank.id])))/seconds\n",
    "#data = pd.read_csv(\"cosmic.csv\")"
   ]
  },
  {
   "cell_type": "code",
   "execution_count": null,
   "id": "add40e50-f309-474d-9809-0f3a7ff09b8c",
   "metadata": {},
   "outputs": [],
   "source": [
    "plt.plot(data.id, data.sec, label=f'Events (>1 MeV) in\\nWbls: {frequency:0.1f} Hz\\nTank: {tankrate:0.1f} Hz\\nTotal: {totalrate:0.1f} Hz')\n",
    "plt.xlim(0, 1e7)\n",
    "plt.ylim(bottom=0)\n",
    "plt.xlabel(\"Event ID\")\n",
    "plt.ylabel(\"Time (seconds)\")\n",
    "plt.legend()\n",
    "plt.savefig(\"figures/CosmicEventTimes.svg\")\n",
    "plt.show()"
   ]
  },
  {
   "cell_type": "code",
   "execution_count": null,
   "id": "c8dd7f5c-beaf-4ca7-815c-d285d98a03b0",
   "metadata": {},
   "outputs": [],
   "source": [
    "np.unique(data.process)\n",
    "michel = (data[data.process == 'muMinusCaptureAtRest'])\n",
    "michel = michel[michel.name == 'e-']\n",
    "nmichel = len(michel)\n",
    "michelFrequency = nmichel / seconds\n",
    "label = f'Michel electrons\\n{nmichel} ({michelFrequency:0.1f} Hz)'\n",
    "\n",
    "plt.hist(michel.energy, bins=np.arange(0,100,2), label=label, histtype='step')\n",
    "plt.xlabel(\"Electron initial energy (MeV)\")\n",
    "plt.ylabel(f\"Counts / 1 MeV / {seconds:0.0f} seconds\")\n",
    "plt.xlim(0, 80)\n",
    "plt.legend()\n",
    "plt.savefig('figures/Michel.svg')\n",
    "plt.show()"
   ]
  },
  {
   "cell_type": "code",
   "execution_count": null,
   "id": "5c39e959-0e38-4d96-bc6d-9f11c40837a8",
   "metadata": {},
   "outputs": [],
   "source": [
    "# General directionality of everything\n",
    "maxZ = -np.cos(np.pi/4)\n",
    "muons = data[data.process=='start']\n",
    "label = f'All \"start\" processes'\n",
    "fractionMissed = sum(muons.direction>maxZ)/len(muons)\n",
    "plt.hist(muons.direction, bins=np.arange(-1,1,0.02), histtype='step', label=label)\n",
    "plt.xlim(-1, 1)\n",
    "plt.xlabel(r\"$\\cos\\theta$\")\n",
    "plt.ylabel(f\"Counts / {seconds:0.0f} seconds\")\n",
    "plt.axvline(maxZ, color='xkcd:maroon', label=f'Eos Diagonal\\n({fractionMissed*100:0.1f}% cannot hit top and bottom)')\n",
    "plt.legend()\n",
    "plt.savefig(\"figures/AngularDistribution.svg\")\n",
    "plt.show()"
   ]
  },
  {
   "cell_type": "code",
   "execution_count": null,
   "id": "b39a767e-3376-4b10-99f8-a0521a203fed",
   "metadata": {},
   "outputs": [],
   "source": [
    "ebins = np.arange(0, 10000, 100)\n",
    "#fig = plt.figure(figsize=(12, 10))\n",
    "for particle in np.unique(data.name):\n",
    "    subset = data[ data.name == particle ]\n",
    "    #subset = subset[ subset.energy > 10 ]\n",
    "    if len(subset) > 0:\n",
    "        rate = len(subset)/seconds\n",
    "        labelV = f'{rate:0.1f}' if rate > 0.1 else f'{rate:0.1e}'\n",
    "        plt.hist(subset.energy, bins=ebins, label=f'{particle} ({labelV})', histtype='step')\n",
    "plt.yscale('log')\n",
    "plt.xlim(ebins.min(), ebins.max())\n",
    "plt.title(\"Legend shows event rates in Hz\")\n",
    "plt.legend(ncol=6, prop={'size':7})\n",
    "plt.xlabel(\"Initial energy (MeV)\")\n",
    "plt.ylabel(f\"Counts / 100 MeV / {seconds:0.0f} seconds\")\n",
    "plt.savefig(\"figures/EnergySpectrum.svg\")\n",
    "plt.show()"
   ]
  },
  {
   "cell_type": "code",
   "execution_count": null,
   "id": "17f01bf4-cadd-4e9c-b17a-65c0bfbd4fcf",
   "metadata": {},
   "outputs": [],
   "source": [
    "# \"Trigger\" rate as a function of energy\n",
    "def triggerRate(df, threshold):\n",
    "    subset = df[df.energy > threshold]\n",
    "    count = len(np.unique(subset.id))\n",
    "    return count / seconds\n",
    "\n",
    "def combinedRate(df1, df2, thresholds):\n",
    "    newdf = pd.concat([df1, df2])\n",
    "    return np.array([triggerRate(newdf, t) for t in thresholds])\n",
    "\n",
    "thresholds = np.arange(0,10,0.1)\n",
    "wblsrates = np.array([triggerRate(data, t) for t in thresholds])\n",
    "tankrates = np.array([triggerRate(tank, t) for t in thresholds])\n",
    "totalrates = combinedRate(data, tank, thresholds)\n",
    "#totalrates = np.array([triggerRate(pd.concat([data,tank]), t) for t in thresholds])\n",
    "plt.title = 'Counting events with 1 or more \\nparticles in wbls above threshold'\n",
    "plt.plot(thresholds, wblsrates, label=\"WbLS\")\n",
    "plt.plot(thresholds, tankrates, label=\"Water\")\n",
    "plt.plot(thresholds, totalrates, label=\"Total\")\n",
    "plt.ylabel(\"Trigger rate (Hz)\")\n",
    "plt.xlabel(\"Lower energy threshold (MeV)\")\n",
    "plt.xlim(thresholds.min(), thresholds.max())\n",
    "plt.ylim(bottom=0)\n",
    "plt.legend()\n",
    "plt.savefig('figures/LowEThreshold.svg')\n",
    "plt.show()"
   ]
  }
 ],
 "metadata": {
  "kernelspec": {
   "display_name": "Python 3 (ipykernel)",
   "language": "python",
   "name": "python3"
  },
  "language_info": {
   "codemirror_mode": {
    "name": "ipython",
    "version": 3
   },
   "file_extension": ".py",
   "mimetype": "text/x-python",
   "name": "python",
   "nbconvert_exporter": "python",
   "pygments_lexer": "ipython3",
   "version": "3.10.4"
  }
 },
 "nbformat": 4,
 "nbformat_minor": 5
}
